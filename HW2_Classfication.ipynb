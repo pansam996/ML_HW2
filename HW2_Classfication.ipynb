{
 "cells": [
  {
   "cell_type": "markdown",
   "metadata": {},
   "source": [
    "# GOAL : 根據人們的個人資料，判斷其年收入是否高於 50,000 美元。\n",
    "## Method1 : logistic regression"
   ]
  },
  {
   "cell_type": "code",
   "execution_count": 11,
   "metadata": {},
   "outputs": [],
   "source": [
    "import numpy as np\n",
    "import pandas as pd\n",
    "pd.set_option('display.max_columns', None)\n",
    "np.random.seed(0)"
   ]
  },
  {
   "cell_type": "markdown",
   "metadata": {},
   "source": [
    "## 資料前處理\n",
    "- X_train 有經過one-hot encoding處理 所以有510行columns  [[參考資料]](https://medium.com/@PatHuang/初學python手記-3-資料前處理-label-encoding-one-hot-encoding-85c983d63f87)\n",
    "- [字串格式化參考資料](https://blog.techbridge.cc/2019/05/03/how-to-use-python-string-format-method/)"
   ]
  },
  {
   "cell_type": "code",
   "execution_count": 12,
   "metadata": {},
   "outputs": [],
   "source": [
    "train_x_path = './data/X_train'\n",
    "train_y_path = './data/Y_train'\n",
    "test_x_path = './data/X_test'\n",
    "output_path = './output_{}.csv'\n",
    "\n",
    "# parse csv files to numpy array\n",
    "with open(train_x_path) as f:\n",
    "    # 跳過 column names\n",
    "    next(f) \n",
    "    # strip 去除頭尾指定字元\n",
    "    # 從[1:] 開始是因為id 不需要 \n",
    "    x_train = np.array([line.strip('\\n').split(',')[1:] for line in f] , dtype = float )\n",
    "\n",
    "with open(train_y_path) as f:\n",
    "    next(f)\n",
    "    y_train = np.array([line.strip('\\n').split(',')[1] for line in f] , dtype = float )\n",
    "\n",
    "with open(test_x_path) as f:\n",
    "    next(f)\n",
    "    x_test = np.array([line.strip('\\n').split(',')[1:] for line in f] , dtype = float )"
   ]
  },
  {
   "cell_type": "markdown",
   "metadata": {},
   "source": [
    "## Normorlize"
   ]
  },
  {
   "cell_type": "code",
   "execution_count": 13,
   "metadata": {},
   "outputs": [],
   "source": [
    "def _normorlize(X,train = True , specified_column = None, X_mean=None, X_std= None):\n",
    "    # This function normalizes specific columns of X.\n",
    "    # The mean and standard variance of training data will be reused when processing testing data.\n",
    "    #\n",
    "    # Arguments:\n",
    "    #     X: data to be processed\n",
    "    #     train: 'True' when processing training data, 'False' for testing data\n",
    "    #     specific_column: indexes of the columns that will be normalized. If 'None', all columns\n",
    "    #         will be normalized.\n",
    "    #     X_mean: mean value of training data, used when train = 'False'\n",
    "    #     X_std: standard deviation of training data, used when train = 'False'\n",
    "    # Outputs:\n",
    "    #     X: normalized data\n",
    "    #     X_mean: computed mean value of training data\n",
    "    #     X_std: computed standard deviation of training data\n",
    "    \n",
    "    if specified_column==None:\n",
    "        specified_column = np.arange(x_train.shape[1])\n",
    "    if train:\n",
    "        X_mean = np.mean(X[: , specified_column] , axis = 0).reshape(1,-1)\n",
    "        X_std = np.std(X[: , specified_column] , axis = 0).reshape(1,-1)\n",
    "    \n",
    "    X[: ,specified_column] = (X[: ,specified_column] - X_mean) / (X_std + 1e-8)\n",
    "    \n",
    "    return X , X_mean ,X_std"
   ]
  },
  {
   "cell_type": "markdown",
   "metadata": {},
   "source": [
    "## Split into train_set and dev_set"
   ]
  },
  {
   "cell_type": "code",
   "execution_count": 14,
   "metadata": {},
   "outputs": [],
   "source": [
    "def _train_dev_split(X,Y,dev_ratio = 0.25):\n",
    "    train_size = int(X.shape[0] * (1-dev_ratio))\n",
    "    return X[:train_size] ,Y[:train_size] , X[train_size:] , Y[train_size:]"
   ]
  },
  {
   "cell_type": "markdown",
   "metadata": {},
   "source": [
    "## Normorlize and Split"
   ]
  },
  {
   "cell_type": "code",
   "execution_count": 15,
   "metadata": {},
   "outputs": [
    {
     "name": "stdout",
     "output_type": "stream",
     "text": [
      "train_size = 48830\n",
      "dev_size = 5426\n",
      "test_size = 27622\n",
      "data_dim = 510\n"
     ]
    }
   ],
   "source": [
    "# Normorlize X_train & X_test\n",
    "X_train , X_mean, X_std = _normorlize(x_train,train=True)\n",
    "X_test,_ ,_ = _normorlize(x_test , train=False , specified_column=None,X_mean= X_mean ,X_std=X_std)\n",
    "\n",
    "# Split into train and dev\n",
    "dev_ratio = 0.1\n",
    "X_train , Y_train , X_dev , Y_dev = _train_dev_split(X_train,y_train , dev_ratio=dev_ratio)\n",
    "\n",
    "train_size = X_train.shape[0]\n",
    "dev_size = X_dev.shape[0]\n",
    "test_size = X_test.shape[0]\n",
    "data_dim = X_train.shape[1]\n",
    "\n",
    "print('train_size = {}'.format(train_size))\n",
    "print('dev_size = {}'.format(dev_size))\n",
    "print('test_size = {}'.format(test_size))\n",
    "print('data_dim = {}'.format(data_dim))"
   ]
  },
  {
   "cell_type": "markdown",
   "metadata": {},
   "source": [
    "## Some Useful Functions"
   ]
  },
  {
   "cell_type": "code",
   "execution_count": 7,
   "metadata": {},
   "outputs": [],
   "source": [
    "def _shuffle(X,Y):\n",
    "    randomize = np.arange(X.shape[0])\n",
    "    np.random.shuffle(randomize)\n",
    "    return (X[randomize],Y[randomize])\n",
    "\n",
    "def _sigmod(z):\n",
    "    # Sigmoid function can be used to calculate probability.\n",
    "    # To avoid overflow, minimum/maximum output value is set.\n",
    "    # clip (input,最小值,最大值)\n",
    "    return np.clip(1 / (1.0 + np.exp(-z)) , 1e-8 , 1 - (1e-8))\n",
    "\n",
    "def _f(X,w,b):\n",
    "    # This is the logistic regression function, parameterized by w and b\n",
    "    #\n",
    "    # Arguements:\n",
    "    #     X: input data, shape = [batch_size, data_dimension]\n",
    "    #     w: weight vector, shape = [data_dimension, ]\n",
    "    #     b: bias, scalar\n",
    "    # Output:\n",
    "    #     predicted probability of each row of X being positively labeled, shape = [batch_size, ]\n",
    "    return _sigmod(np.matmul(X,w) + b)\n",
    "\n",
    "def _prdeic(X, w, b):\n",
    "    # This function returns a truth value prediction for each row of X \n",
    "    # by rounding the result of logistic regression function.\n",
    "    return np.round(_f(X,w,b)).astype(np.int)\n",
    "\n",
    "def _accurcy(Y_prdic , Y_label):\n",
    "    # This function calculates prediction accuracy\n",
    "    acc = 1 - np.mean(np.abs(Y_prdic - Y_label))\n",
    "    return acc"
   ]
  },
  {
   "cell_type": "markdown",
   "metadata": {},
   "source": [
    "## Function about gradient and loss\n",
    "- _Gradient 公式：https://i.imgur.com/0V3ecav.png\n",
    "- _Cross_entropy_loss 公式 ：https://i.imgur.com/kTPEcda.png"
   ]
  },
  {
   "cell_type": "code",
   "execution_count": 8,
   "metadata": {},
   "outputs": [],
   "source": [
    "def _cross_entropy_loss(y_pred, Y_label):\n",
    "    # This function computes the cross entropy.\n",
    "    #\n",
    "    # Arguements:\n",
    "    #     y_pred: probabilistic predictions, float vector\n",
    "    #     Y_label: ground truth labels, bool vector\n",
    "    # Output:\n",
    "    #     cross entropy, scalar\n",
    "    cross_entropy = -np.dot(Y_label,np.log(y_pred)) - np.dot((1-Y_label),np.log(1-y_pred))\n",
    "    return cross_entropy\n",
    "\n",
    "def _gradient(X, Y_label, w, b):\n",
    "    y_pred = _f(X,w,b)\n",
    "    pred_error = Y_label - y_pred\n",
    "    w_grad = -np.sum(pred_error * X.T , 1) # 此處並非矩陣乘法 而是將X.T(510*8) 每行都乘上 pred_error對應的行 如下例\n",
    "    b_grad = -np.sum(pred_error) \n",
    "    return w_grad, b_grad"
   ]
  },
  {
   "cell_type": "code",
   "execution_count": 118,
   "metadata": {},
   "outputs": [
    {
     "name": "stdout",
     "output_type": "stream",
     "text": [
      "[[ 2  6 18]\n",
      " [ 6 12 27]]\n"
     ]
    }
   ],
   "source": [
    "A = np.array([[1, 2, 6], [3, 4, 9]])\n",
    "B = np.array([2,3,3])\n",
    "print (A*B)"
   ]
  },
  {
   "cell_type": "markdown",
   "metadata": {},
   "source": [
    "## Training\n",
    "我們使用小批次梯度下降法來訓練。訓練資料被分為許多小批次，針對每一個小批次，我們分別計算其梯度以及損失，並根據該批次來更新模型的參數。當一次迴圈完成，也就是整個訓練集的所有小批次都被使用過一次以後，我們將所有訓練資料打散並且重新分成新的小批次，進行下一個迴圈，直到事先設定的迴圈數量達成為止。"
   ]
  },
  {
   "cell_type": "code",
   "execution_count": 131,
   "metadata": {},
   "outputs": [
    {
     "name": "stdout",
     "output_type": "stream",
     "text": [
      "Training loss : 0.276973843065285\n",
      "Development loss : 0.301183017552779\n",
      "Training acuracy : 0.8836166291214418\n",
      "Development acc : 0.8759675635827497\n"
     ]
    }
   ],
   "source": [
    "# initial weight and bias\n",
    "w = np.zeros((data_dim,))\n",
    "b = np.zeros((1,))\n",
    "\n",
    "# some parameters for taining\n",
    "max_iter = 10\n",
    "batch_size = 8\n",
    "learning_rate = 0.2\n",
    "\n",
    "# keep the loss and accuracy every iteration for plotting\n",
    "train_loss = []\n",
    "dev_loss = []\n",
    "train_acc = []\n",
    "dev_acc = []\n",
    "\n",
    "# calcuate the number of parameter updates\n",
    "step = 1\n",
    "\n",
    "# interative training\n",
    "for epoch in range(max_iter):\n",
    "    # shuffle each epoch\n",
    "    X_train , Y_train = _shuffle(X_train,Y_train)\n",
    "    \n",
    "    # mini-batch training\n",
    "    for idx in range(int(np.floor(train_size / batch_size))):\n",
    "        X = X_train[idx*batch_size : (idx+1)*batch_size]\n",
    "        Y = Y_train[idx*batch_size : (idx+1)*batch_size]\n",
    "        \n",
    "        # Compute the gradient\n",
    "        w_grad, b_grad = _gradient(X, Y, w, b)\n",
    "        \n",
    "        # gradient descent update\n",
    "        # learning rate decay with time\n",
    "        w = w - learning_rate/np.sqrt(step) * w_grad\n",
    "        b = b - learning_rate/np.sqrt(step) * b_grad\n",
    "        \n",
    "        step += 1\n",
    "        \n",
    "    # Compute loss and acc of training set and devlopment set\n",
    "    y_train_pred = _f(X_train, w, b)\n",
    "    Y_train_pred = np.round(y_train_pred)\n",
    "    train_acc.append(_accurcy(Y_train_pred,Y_train))\n",
    "    train_loss.append(_cross_entropy_loss(y_train_pred,Y_train) / train_size)\n",
    "    \n",
    "    y_dev_pred = _f(X_dev, w, b)\n",
    "    Y_dev_pred = np.round(y_dev_pred)\n",
    "    dev_acc.append(_accurcy(Y_dev_pred,Y_dev))\n",
    "    dev_loss.append(_cross_entropy_loss(y_dev_pred,Y_dev) / dev_size)\n",
    "    \n",
    "print('Training loss : {}'.format(train_loss[-1]))\n",
    "print('Development loss : {}'.format(dev_loss[-1]))\n",
    "print('Training acuracy : {}'.format(train_acc[-1]))\n",
    "print('Development acc : {}'.format(dev_acc[-1]))\n",
    "\n"
   ]
  },
  {
   "cell_type": "markdown",
   "metadata": {},
   "source": [
    "## Plotting loss and accuracy curve"
   ]
  },
  {
   "cell_type": "code",
   "execution_count": 132,
   "metadata": {},
   "outputs": [
    {
     "data": {
      "image/png": "[encoded data removed]",
      "text/plain": [
       "<Figure size 432x288 with 1 Axes>"
      ]
     },
     "metadata": {
      "needs_background": "light"
     },
     "output_type": "display_data"
    },
    {
     "data": {
      "image/png": "[encoded data removed]",
      "text/plain": [
       "<Figure size 432x288 with 1 Axes>"
      ]
     },
     "metadata": {
      "needs_background": "light"
     },
     "output_type": "display_data"
    }
   ],
   "source": [
    "import matplotlib.pyplot as plt\n",
    "\n",
    "#Loss curve\n",
    "plt.plot(train_loss)\n",
    "plt.plot(dev_loss)\n",
    "plt.title('Loss')\n",
    "plt.legend(['train','dev'])\n",
    "plt.show()\n",
    "\n",
    "#Acc curve\n",
    "plt.plot(train_acc)\n",
    "plt.plot(dev_acc)\n",
    "plt.title('Accuracy')\n",
    "plt.legend(['train','dev'])\n",
    "plt.show()\n",
    "\n"
   ]
  },
  {
   "cell_type": "markdown",
   "metadata": {},
   "source": [
    "## Predicting test labels\n",
    "預測測試集的資料標籤並且存在output_logistic.csv中"
   ]
  },
  {
   "cell_type": "code",
   "execution_count": 133,
   "metadata": {},
   "outputs": [
    {
     "name": "stdout",
     "output_type": "stream",
     "text": [
      " Householder -1.3130822885335887\n",
      " Unemployed full-time 1.1502967218774525\n",
      " Other Rel 18+ spouse of subfamily RP -1.003228743256259\n",
      " El-Salvador -0.9568946790736724\n",
      " Other relative of householder -0.9538275822171146\n",
      " 12th grade no diploma -0.9351356219192601\n",
      " 1 0.8414680641857574\n",
      " El-Salvador -0.8372423228092736\n",
      " Child under 18 ever married -0.756572323731449\n",
      "dividends from stocks -0.7103244084887601\n"
     ]
    }
   ],
   "source": [
    "predictions = _prdeic(X_test, w, b)\n",
    "with open (output_path.format('logistic') , 'w') as f:\n",
    "    f.write('id,label\\n')\n",
    "    for i , label in enumerate(predictions):\n",
    "        f.write('{},{}\\n'.format(i,label))\n",
    "        \n",
    "# print out the most significant weights\n",
    "# argsort() function return the indices\n",
    "ind = np.argsort(np.abs(w))[::-1]\n",
    "with open (test_x_path) as f:\n",
    "    features = f.readline().strip('\\n').split(',')\n",
    "features = np.array(features)\n",
    "for i in ind[:10]:\n",
    "    print(features[i],w[i])"
   ]
  },
  {
   "cell_type": "markdown",
   "metadata": {},
   "source": [
    "## Method2 : generative model"
   ]
  },
  {
   "cell_type": "markdown",
   "metadata": {},
   "source": [
    "## Preparing data \n",
    "訓練集與測試集的處理方法跟 logistic regression 一模一樣，然而因為 generative model 有可解析的最佳解，因此不必使用到 development set。"
   ]
  },
  {
   "cell_type": "code",
   "execution_count": 16,
   "metadata": {},
   "outputs": [],
   "source": [
    "with open (train_x_path) as f:\n",
    "    next(f)\n",
    "    x_train = np.array([line.strip('\\n').split(',')[1:] for line in f], dtype=float)\n",
    "\n",
    "with open (train_y_path) as f:\n",
    "    next(f)\n",
    "    y_train = np.array([line.strip('\\n').split(',')[1] for line in f], dtype=float)\n",
    "\n",
    "with open (test_x_path) as f:\n",
    "    next(f)\n",
    "    x_test = np.array([line.strip('\\n').split(',')[1:] for line in f], dtype=float)"
   ]
  },
  {
   "cell_type": "markdown",
   "metadata": {},
   "source": [
    "## Normorliz train set and test set "
   ]
  },
  {
   "cell_type": "code",
   "execution_count": 17,
   "metadata": {
    "scrolled": true
   },
   "outputs": [],
   "source": [
    "x_train , x_mean ,x_std = _normorlize(x_train , train=True)\n",
    "x_test , _ , _ = _normorlize(x_test, train=False, X_mean=x_mean , X_std=x_std)"
   ]
  },
  {
   "cell_type": "markdown",
   "metadata": {},
   "source": [
    "## Mean and Covariance \n",
    "- 在 generative model 中，我們需要分別計算兩個類別內的資料平均與共變異。\n",
    "- 公式 ： https://i.imgur.com/02ZBI9k.png\n",
    "- shared covariance : https://i.imgur.com/6QiE8S7.png"
   ]
  },
  {
   "cell_type": "code",
   "execution_count": 20,
   "metadata": {},
   "outputs": [],
   "source": [
    "x_train_0 = np.array([x for x, y in zip(x_train,y_train) if y == 0])\n",
    "x_train_1 = np.array([x for x, y in zip(x_train,y_train) if y == 1])\n",
    "\n",
    "mean_0 = np.mean(x_train_0 , axis=0)\n",
    "mean_1 = np.mean(x_train_1 , axis=0)\n",
    "\n",
    "# compute in-class covariance\n",
    "cov_0 = np.zeros((data_dim,data_dim))\n",
    "cov_1 = np.zeros((data_dim,data_dim))\n",
    "\n",
    "for x in x_train_0:\n",
    "    cov_0 += np.dot(np.transpose([x - mean_0]) ,[x - mean_0]) / x_train_0.shape[0] \n",
    "\n",
    "for x in x_train_1:\n",
    "    cov_1 += np.dot(np.transpose([x - mean_1]) ,[x - mean_1]) / x_train_1.shape[0] \n",
    "\n",
    "# shared covariance is taken as a weighted average of individual in-class covariance\n",
    "cov = (cov_0 * x_train_0.shape[0] + cov_1 * x_train_1.shape[0]) / (x_train_0.shape[0] + x_train_1.shape[0])"
   ]
  },
  {
   "cell_type": "markdown",
   "metadata": {},
   "source": [
    "## Computing weight and bias\n",
    "- 公式 ： https://i.imgur.com/iAXAVNA.png"
   ]
  },
  {
   "cell_type": "code",
   "execution_count": 21,
   "metadata": {},
   "outputs": [
    {
     "name": "stdout",
     "output_type": "stream",
     "text": [
      "0.8686781185491006\n"
     ]
    }
   ],
   "source": [
    "# Compute inverse of covariance matrix.\n",
    "# Since covariance matrix may be nearly singular, np.linalg.inv() may give a large numerical error.\n",
    "# Via SVD decomposition, one can get matrix inverse efficiently and accurately.\n",
    "u, s, v = np.linalg.svd(cov, full_matrices=False)\n",
    "inv = np.matmul(v.T * 1 / s, u.T)\n",
    "\n",
    "# Directly compute weights and bias \n",
    "w = np.dot(inv , mean_0 - mean_1)\n",
    "b = (-0.5) * np.dot(mean_0, np.dot(inv, mean_0)) + 0.5 * np.dot(mean_1, np.dot(inv, mean_1))\\\n",
    "    + np.log(float(x_train_0.shape[0]) / x_train_1.shape[0]) \n",
    "\n",
    "# compute accuracy on training set\n",
    "pred_train = 1 - _prdeic(x_train, w, b)\n",
    "acc = _accurcy(pred_train, y_train)\n",
    "print(acc)"
   ]
  },
  {
   "cell_type": "markdown",
   "metadata": {},
   "source": [
    "## Predict test label\n",
    "預測測試集的資料標籤並且存在 output_generative.csv 中"
   ]
  },
  {
   "cell_type": "code",
   "execution_count": 27,
   "metadata": {},
   "outputs": [
    {
     "name": "stdout",
     "output_type": "stream",
     "text": [
      " Utilities and sanitary services -11.40625\n",
      " Construction 10.892578125\n",
      " 35 -10.5810546875\n",
      " Finance insurance and real estate 9.9375\n",
      " 19 9.875\n",
      " Transportation -9.8671875\n",
      " Machine operators assmblrs & inspctrs -9.609375\n",
      " 24 9.578125\n",
      " 7 -9.5390625\n",
      " 44 9.203125\n"
     ]
    }
   ],
   "source": [
    "predictions = 1 - _prdeic(x_test,w,b)\n",
    "with open(output_path.format('generative') ,'w') as f:\n",
    "    f.write('id,label\\n')\n",
    "    for i, label in enumerate(predictions):\n",
    "        f.write('{},{}\\n'.format(i,label))\n",
    "\n",
    "# Print out the most significant weights\n",
    "ind = np.argsort(np.abs(w))[::-1]\n",
    "with open(test_x_path) as f:\n",
    "    content = f.readline().strip('\\n').split(',')\n",
    "features = np.array(content)\n",
    "for i in ind[0:10]:\n",
    "    print(features[i], w[i])"
   ]
  }
 ],
 "metadata": {
  "kernelspec": {
   "display_name": "Python 3",
   "language": "python",
   "name": "python3"
  },
  "language_info": {
   "codemirror_mode": {
    "name": "ipython",
    "version": 3
   },
   "file_extension": ".py",
   "mimetype": "text/x-python",
   "name": "python",
   "nbconvert_exporter": "python",
   "pygments_lexer": "ipython3",
   "version": "3.7.3"
  }
 },
 "nbformat": 4,
 "nbformat_minor": 2
}
